{
 "cells": [
  {
   "cell_type": "markdown",
   "metadata": {
    "deletable": false,
    "editable": false
   },
   "source": [
    "# Memory Update Protocol of SHE\n",
    "**Timothy Huang (behuangyi@gmail.com)**"
   ]
  },
  {
   "cell_type": "markdown",
   "metadata": {
    "deletable": false,
    "editable": false
   },
   "source": [
    "* **Functions Defined**"
   ]
  },
  {
   "cell_type": "code",
   "execution_count": 1,
   "metadata": {
    "deletable": false,
    "editable": false
   },
   "outputs": [],
   "source": [
    "from Crypto.Cipher import AES\n",
    "\n",
    "\n",
    "# Miyaguchi-Preneel Compression Function\n",
    "def AES_MP_Compression(padded_msgs):\n",
    "    use_key_value = 0x00\n",
    "    use_key_byte = use_key_value.to_bytes(16, byteorder='big')\n",
    "    \n",
    "    for m in padded_msgs:\n",
    "        cipher = AES.new(use_key_byte, AES.MODE_ECB)\n",
    "        \n",
    "        msg_byte = m.to_bytes(16, byteorder='big')\n",
    "        cipher_byte = cipher.encrypt(msg_byte)\n",
    "        \n",
    "        use_key_value = int(cipher_byte.hex(), 16) ^ use_key_value ^ m\n",
    "        use_key_byte = use_key_value.to_bytes(16, byteorder='big')\n",
    "    \n",
    "    return use_key_byte.hex()\n",
    "\n",
    "\n",
    "# KEY is a key string, and MESSAGES is a list contains message strings\n",
    "def AES_CMAC(KEY, MESSAGE):\n",
    "    MASK_1bit_ONE = 0x01\n",
    "    MASK_128bit_ONE = int('f'*32, 16)\n",
    "    CONST_R128 = 0x87\n",
    "    CONST_ZERO = 0x00\n",
    "    \n",
    "    # Step1: Generate sub-keys\n",
    "    key_byte = bytes.fromhex(KEY)\n",
    "    cipher = AES.new(key_byte, AES.MODE_ECB)\n",
    "\n",
    "    cipher_byte = cipher.encrypt(CONST_ZERO.to_bytes(16, byteorder='big'))\n",
    "    CIPHERTEXT = cipher_byte.hex()\n",
    "    CIPHER_L = int(CIPHERTEXT, 16)\n",
    "    CIPHER_L_MSB = (CIPHER_L >> 127) & MASK_1bit_ONE\n",
    "\n",
    "    if CIPHER_L_MSB == 0:\n",
    "        K1_MAC = CIPHER_L << 1\n",
    "    else:\n",
    "        K1_MAC = (CIPHER_L << 1) ^ CONST_R128\n",
    "\n",
    "    K1_MSB = (K1_MAC >> 127) & MASK_1bit_ONE\n",
    "\n",
    "    if K1_MSB == 0:\n",
    "        K2_MAC = K1_MAC << 1\n",
    "    else:\n",
    "        K2_MAC = (K1_MAC << 1) ^ CONST_R128\n",
    "\n",
    "    K1_OUT = (K1_MAC & MASK_128bit_ONE).to_bytes(16, byteorder='big').hex()\n",
    "    K2_OUT = (K2_MAC & MASK_128bit_ONE).to_bytes(16, byteorder='big').hex()\n",
    "\n",
    "    # Step2: Start computing MAC using the sub-keys\n",
    "    MESSAGES = []\n",
    "    for idx, msg in enumerate(MESSAGE):\n",
    "        if len(msg) != 0:\n",
    "            MESSAGES.append(int(msg, 16))\n",
    "        else:\n",
    "            MESSAGES.append(0)\n",
    "\n",
    "    mac_output = b'\\x00'\n",
    "    for idx in range(len(MESSAGES)-1):\n",
    "        if idx == 0:    \n",
    "            mac_output = cipher.encrypt(MESSAGES[idx].to_bytes(16, byteorder='big'))\n",
    "        else:\n",
    "            mac_input = int(mac_output.hex(), 16) ^ MESSAGES[idx]\n",
    "            mac_output = cipher.encrypt(mac_input.to_bytes(16, byteorder='big'))\n",
    "\n",
    "    msg_bit_len = len(MESSAGE[-1]) * 4\n",
    "\n",
    "    if msg_bit_len < 128:\n",
    "        padding_num = 128 - msg_bit_len - 1\n",
    "        LAST_MSG_BIN = bin(MESSAGES[-1])[2:] + '1' + '0' * padding_num\n",
    "        LAST_MSG = int(LAST_MSG_BIN, 2)\n",
    "        mac_input = int(mac_output.hex(), 16) ^ LAST_MSG ^ int(K2_OUT, 16)\n",
    "    else:\n",
    "        mac_input = int(mac_output.hex(), 16) ^ MESSAGES[-1] ^ int(K1_OUT, 16)\n",
    "\n",
    "    mac_output = cipher.encrypt(mac_input.to_bytes(16, byteorder='big'))\n",
    "\n",
    "    return mac_output.hex()\n",
    "\n",
    "\n",
    "# Input is a Hex string and format output the Hex value\n",
    "def M_Value_Print(m_value_str):\n",
    "    counter = 0\n",
    "    for m_hex in m_value_str:\n",
    "        counter += 1\n",
    "        print(m_hex.upper(), end='')\n",
    "        if counter == 2:\n",
    "            counter = 0\n",
    "            print(' ', end='')\n",
    "    print()"
   ]
  },
  {
   "cell_type": "markdown",
   "metadata": {
    "deletable": false,
    "editable": false
   },
   "source": [
    "* **Constant Value from SHE**"
   ]
  },
  {
   "cell_type": "code",
   "execution_count": 2,
   "metadata": {
    "deletable": false,
    "editable": false
   },
   "outputs": [],
   "source": [
    "KEY_UPDATE_ENC_C = 0x010153484500800000000000000000b0\n",
    "KEY_UPDATE_MAC_C = 0x010253484500800000000000000000b0"
   ]
  },
  {
   "cell_type": "markdown",
   "metadata": {
    "deletable": false,
    "editable": false
   },
   "source": [
    "* **Input Value Pending Change**"
   ]
  },
  {
   "cell_type": "code",
   "execution_count": 3,
   "metadata": {
    "deletable": false
   },
   "outputs": [],
   "source": [
    "# Default UID Value\n",
    "UID_SHE_MODULE = 0x000000000000000000000000000001\n",
    "\n",
    "# The secret used to do the update at AuthID\n",
    "KEY_AUTH_ID = 0x000102030405060708090a0b0c0d0e0f\n",
    "\n",
    "# The new key value expect to update to ID_KEY_SLOT\n",
    "KEY_ID_NEW = 0x0f0e0d0c0b0a09080706050403020100\n",
    "\n",
    "# Slot of the secret used for update key, value length 4 bits\n",
    "# 0x1 is the MASTER_ECU_KEY slot\n",
    "AuthID = 0x1\n",
    "\n",
    "# Key slot to be updated, value length 4 bits\n",
    "ID_KEY_SLOT = 0x4\n",
    "\n",
    "# New Counter Value\n",
    "CID = 0x0000001\n",
    "\n",
    "WRITE_PROTECTION = '0'\n",
    "BOOT_PROTECTION = '0'\n",
    "DEBUGGER_PROTECTION = '0'\n",
    "KEY_USAGE = '0'\n",
    "WILDCARD = '0'\n",
    "\n",
    "FID = WRITE_PROTECTION + BOOT_PROTECTION + DEBUGGER_PROTECTION + KEY_USAGE + WILDCARD"
   ]
  },
  {
   "cell_type": "markdown",
   "metadata": {
    "deletable": false,
    "editable": false
   },
   "source": [
    "* **Key Derivation**"
   ]
  },
  {
   "cell_type": "code",
   "execution_count": 4,
   "metadata": {
    "deletable": false,
    "editable": false
   },
   "outputs": [],
   "source": [
    "# Use the Secret to generate K1 and K2\n",
    "K1 = AES_MP_Compression([KEY_AUTH_ID, KEY_UPDATE_ENC_C])\n",
    "K2 = AES_MP_Compression([KEY_AUTH_ID, KEY_UPDATE_MAC_C])\n",
    "\n",
    "# Use the New Key to generate K3 and K4\n",
    "K3 = AES_MP_Compression([KEY_ID_NEW, KEY_UPDATE_ENC_C])\n",
    "K4 = AES_MP_Compression([KEY_ID_NEW, KEY_UPDATE_MAC_C])"
   ]
  },
  {
   "cell_type": "markdown",
   "metadata": {
    "deletable": false,
    "editable": false
   },
   "source": [
    "* **Calculate M1**"
   ]
  },
  {
   "cell_type": "code",
   "execution_count": 5,
   "metadata": {
    "deletable": false,
    "editable": false
   },
   "outputs": [],
   "source": [
    "# The UID is specified to 120 bits\n",
    "UID_BIT_LEN = 120\n",
    "uid_bytes = UID_SHE_MODULE.to_bytes(UID_BIT_LEN//8, byteorder='big')\n",
    "\n",
    "# M1 is the concatenation of the UID, the ID of Key to be updated, and the AuthID\n",
    "M1 = uid_bytes.hex() + str(ID_KEY_SLOT) + str(AuthID)"
   ]
  },
  {
   "cell_type": "markdown",
   "metadata": {
    "deletable": false,
    "editable": false
   },
   "source": [
    "* **Calculate M2**"
   ]
  },
  {
   "cell_type": "code",
   "execution_count": 6,
   "metadata": {
    "deletable": false,
    "editable": false
   },
   "outputs": [],
   "source": [
    "# M2 is the CBC Encryption of INPUT_INFO with K1 and IV\n",
    "# INPUT_INFO includes CID, FID and KEY_ID_NEW\n",
    "FID_BIT_LEN = 5\n",
    "CID_BIT_LEN = 28\n",
    "CID_BIN_STR = bin(CID)[2:].zfill(CID_BIT_LEN)\n",
    "FILL_GAP_ZEROS = '0' * (128 - CID_BIT_LEN - FID_BIT_LEN)\n",
    "\n",
    "IV = 0x0\n",
    "iv_byte = IV.to_bytes(16, byteorder='big')\n",
    "key_byte = bytes.fromhex(K1)\n",
    "\n",
    "cipher_byte = b''\n",
    "INPUT_INFO = [int(CID_BIN_STR + FID + FILL_GAP_ZEROS, 2), KEY_ID_NEW]\n",
    "\n",
    "for c in INPUT_INFO:\n",
    "    cipher_byte += c.to_bytes(16, byteorder='big')\n",
    "\n",
    "cipher = AES.new(key_byte, AES.MODE_CBC, iv_byte)\n",
    "M2_byte = cipher.encrypt(cipher_byte)\n",
    "M2 = M2_byte.hex()"
   ]
  },
  {
   "cell_type": "markdown",
   "metadata": {
    "deletable": false,
    "editable": false
   },
   "source": [
    "* **Calculate M3**"
   ]
  },
  {
   "cell_type": "code",
   "execution_count": 7,
   "metadata": {
    "deletable": false,
    "editable": false
   },
   "outputs": [],
   "source": [
    "from textwrap import wrap\n",
    "\n",
    "# M3 is the MAC of [M1, M2] using K2\n",
    "MESSAGE_IN = [M1] + wrap(M2, 32)\n",
    "M3 = AES_CMAC(K2, MESSAGE_IN)"
   ]
  },
  {
   "cell_type": "markdown",
   "metadata": {
    "deletable": false,
    "editable": false
   },
   "source": [
    "* **Calculate M4**"
   ]
  },
  {
   "cell_type": "code",
   "execution_count": 8,
   "metadata": {
    "deletable": false,
    "editable": false
   },
   "outputs": [],
   "source": [
    "# M4 is consist by first 16 bytes same as M1\n",
    "# and last 16 bytes the ECB Encryption of CID using K3\n",
    "CID_PAD = '1' + (128 - 1- CID_BIT_LEN) * '0'\n",
    "m4_star_info = int(CID_BIN_STR + CID_PAD, 2)\n",
    "m4_star_byte = m4_star_info.to_bytes(16, byteorder='big')\n",
    "\n",
    "cipher = AES.new(bytes.fromhex(K3), AES.MODE_ECB)\n",
    "m4_cipher_byte = cipher.encrypt(m4_star_byte)\n",
    "M4_STAR = m4_cipher_byte.hex()\n",
    "\n",
    "M4_BLOCK1 = M1\n",
    "M4 = [M4_BLOCK1, M4_STAR]"
   ]
  },
  {
   "cell_type": "markdown",
   "metadata": {
    "deletable": false,
    "editable": false
   },
   "source": [
    "* **Calculate M5**"
   ]
  },
  {
   "cell_type": "code",
   "execution_count": 9,
   "metadata": {
    "deletable": false,
    "editable": false
   },
   "outputs": [],
   "source": [
    "# M5 is the MAC of M4 using K4\n",
    "M5 = AES_CMAC(K4, M4)"
   ]
  },
  {
   "cell_type": "markdown",
   "metadata": {
    "deletable": false,
    "editable": false
   },
   "source": [
    "* **Format Print M1 to M5**"
   ]
  },
  {
   "cell_type": "code",
   "execution_count": 10,
   "metadata": {
    "deletable": false,
    "editable": false
   },
   "outputs": [
    {
     "name": "stdout",
     "output_type": "stream",
     "text": [
      "[M1 to M3]\n",
      "00 00 00 00 00 00 00 00 00 00 00 00 00 00 01 41 \n",
      "2B 11 1E 2D 93 F4 86 56 6B CB BA 1D 7F 7A 97 97 C9 46 43 B0 50 FC 5D 4D 7D E1 4C FF 68 22 03 C3 \n",
      "B9 D7 45 E5 AC E7 D4 18 60 BC 63 C2 B9 F5 BB 46 \n",
      "\n",
      "[M4 to M5]\n",
      "00000000000000000000000000000141 b472e8d8727d70d57295e74849a27917\n",
      "820d8d95dc11b4668878160cb2a4e23e\n"
     ]
    }
   ],
   "source": [
    "print(\"[M1 to M3]\")\n",
    "M_Value_Print(M1)\n",
    "M_Value_Print(M2)\n",
    "M_Value_Print(M3)\n",
    "print()\n",
    "\n",
    "print(\"[M4 to M5]\")\n",
    "print(M4[0], M4[1])\n",
    "print(M5)"
   ]
  },
  {
   "cell_type": "markdown",
   "metadata": {
    "deletable": false,
    "editable": false
   },
   "source": [
    "* **Collective Verification for Multiple Slaves**"
   ]
  },
  {
   "cell_type": "code",
   "execution_count": 11,
   "metadata": {
    "deletable": false
   },
   "outputs": [],
   "source": [
    "# Random number with the length of 128 bits\n",
    "KZKVERI_A = '0102030405060708090a0b0c0d0e0f00'"
   ]
  },
  {
   "cell_type": "code",
   "execution_count": 12,
   "metadata": {
    "deletable": false,
    "editable": false
   },
   "outputs": [
    {
     "name": "stdout",
     "output_type": "stream",
     "text": [
      "0f0e0d0c0b0a09080706050403020100\n",
      "01 02 03 04 05 06 07 08 09 0A 0B 0C 0D 0E 0F 00 \n",
      "F6 90 F2 55 63 A7 65 41 37 20 6A 83 BA 6A A0 EF \n"
     ]
    }
   ],
   "source": [
    "VERIFI_KEY = KEY_ID_NEW.to_bytes(16, byteorder='big').hex()\n",
    "\n",
    "# MAC of the Random unmber with the new udpated key\n",
    "KZKVERI_B = AES_CMAC(VERIFI_KEY, [KZKVERI_A])\n",
    "\n",
    "print(VERIFI_KEY)\n",
    "M_Value_Print(KZKVERI_A)\n",
    "M_Value_Print(KZKVERI_B)"
   ]
  },
  {
   "cell_type": "code",
   "execution_count": null,
   "metadata": {},
   "outputs": [],
   "source": []
  }
 ],
 "metadata": {
  "kernelspec": {
   "display_name": "Python 3",
   "language": "python",
   "name": "python3"
  },
  "language_info": {
   "codemirror_mode": {
    "name": "ipython",
    "version": 3
   },
   "file_extension": ".py",
   "mimetype": "text/x-python",
   "name": "python",
   "nbconvert_exporter": "python",
   "pygments_lexer": "ipython3",
   "version": "3.7.4"
  }
 },
 "nbformat": 4,
 "nbformat_minor": 2
}
