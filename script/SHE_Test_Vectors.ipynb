{
 "cells": [
  {
   "cell_type": "markdown",
   "metadata": {},
   "source": [
    "# AES-128, ECB mode"
   ]
  },
  {
   "cell_type": "code",
   "execution_count": 1,
   "metadata": {},
   "outputs": [
    {
     "name": "stdout",
     "output_type": "stream",
     "text": [
      "69c4e0d86a7b0430d8cdb78070b4c55a\n"
     ]
    }
   ],
   "source": [
    "from Crypto.Cipher import AES\n",
    "\n",
    "KEY = 0x000102030405060708090a0b0c0d0e0f\n",
    "PLAINTEXT = 0x00112233445566778899aabbccddeeff\n",
    "\n",
    "key_byte = KEY.to_bytes(16, byteorder='big')\n",
    "text_byte = PLAINTEXT.to_bytes(16, byteorder='big')\n",
    "\n",
    "cipher = AES.new(key_byte, AES.MODE_ECB)\n",
    "cipher_byte = cipher.encrypt(text_byte)\n",
    "\n",
    "CIPHERTEXT = cipher_byte.hex()\n",
    "print(CIPHERTEXT)"
   ]
  },
  {
   "cell_type": "markdown",
   "metadata": {},
   "source": [
    "# AES-128, CBC mode"
   ]
  },
  {
   "cell_type": "markdown",
   "metadata": {},
   "source": [
    "* **Encrypt Block #1**"
   ]
  },
  {
   "cell_type": "code",
   "execution_count": 2,
   "metadata": {},
   "outputs": [
    {
     "name": "stdout",
     "output_type": "stream",
     "text": [
      "6bc0bce12a459991e134741a7f9e1925\n",
      "7649abac8119b246cee98e9b12e9197d\n"
     ]
    }
   ],
   "source": [
    "from Crypto.Cipher import AES\n",
    "\n",
    "KEY = 0x2b7e151628aed2a6abf7158809cf4f3c\n",
    "IV = 0x000102030405060708090a0b0c0d0e0f\n",
    "PLAINTEXT = 0x6bc1bee22e409f96e93d7e117393172a\n",
    "\n",
    "input_var = IV ^ PLAINTEXT\n",
    "AES_INPUT = format(input_var, 'x')\n",
    "print(AES_INPUT)\n",
    "\n",
    "key_byte = KEY.to_bytes(16, byteorder='big')\n",
    "input_byte = input_var.to_bytes(16, byteorder='big')\n",
    "\n",
    "cipher = AES.new(key_byte, AES.MODE_ECB)\n",
    "cipher_byte = cipher.encrypt(input_byte)\n",
    "\n",
    "AES_OUTPUT = cipher_byte.hex()\n",
    "print(AES_OUTPUT)"
   ]
  },
  {
   "cell_type": "markdown",
   "metadata": {},
   "source": [
    "* **Encrypt Block #2**"
   ]
  },
  {
   "cell_type": "code",
   "execution_count": 3,
   "metadata": {},
   "outputs": [
    {
     "name": "stdout",
     "output_type": "stream",
     "text": [
      "d86421fb9f1a1eda505ee1375746972c\n",
      "5086cb9b507219ee95db113a917678b2\n"
     ]
    }
   ],
   "source": [
    "PLAINTEXT = 0xae2d8a571e03ac9c9eb76fac45af8e51\n",
    "\n",
    "input_var = int(AES_OUTPUT, 16) ^ PLAINTEXT\n",
    "AES_INPUT = format(input_var, 'x')\n",
    "print(AES_INPUT)\n",
    "\n",
    "input_byte = input_var.to_bytes(16, byteorder='big')\n",
    "\n",
    "cipher = AES.new(key_byte, AES.MODE_ECB)\n",
    "cipher_byte = cipher.encrypt(input_byte)\n",
    "\n",
    "AES_OUTPUT = cipher_byte.hex()\n",
    "print(AES_OUTPUT)"
   ]
  },
  {
   "cell_type": "markdown",
   "metadata": {},
   "source": [
    "* **Encrypt Block #3**"
   ]
  },
  {
   "cell_type": "code",
   "execution_count": 4,
   "metadata": {},
   "outputs": [
    {
     "name": "stdout",
     "output_type": "stream",
     "text": [
      "604ed7ddf32efdff7020d0238b7c2a5d\n",
      "73bed6b8e3c1743b7116e69e22229516\n"
     ]
    }
   ],
   "source": [
    "PLAINTEXT = 0x30c81c46a35ce411e5fbc1191a0a52ef\n",
    "\n",
    "input_var = int(AES_OUTPUT, 16) ^ PLAINTEXT\n",
    "AES_INPUT = format(input_var, 'x')\n",
    "print(AES_INPUT)\n",
    "\n",
    "input_byte = input_var.to_bytes(16, byteorder='big')\n",
    "\n",
    "cipher = AES.new(key_byte, AES.MODE_ECB)\n",
    "cipher_byte = cipher.encrypt(input_byte)\n",
    "\n",
    "AES_OUTPUT = cipher_byte.hex()\n",
    "print(AES_OUTPUT)"
   ]
  },
  {
   "cell_type": "markdown",
   "metadata": {},
   "source": [
    "* **Encrypt Block #4**"
   ]
  },
  {
   "cell_type": "code",
   "execution_count": 5,
   "metadata": {},
   "outputs": [
    {
     "name": "stdout",
     "output_type": "stream",
     "text": [
      "8521f2fd3c8eef2cdc3da7e5c44ea206\n",
      "3ff1caa1681fac09120eca307586e1a7\n"
     ]
    }
   ],
   "source": [
    "PLAINTEXT = 0xf69f2445df4f9b17ad2b417be66c3710\n",
    "\n",
    "input_var = int(AES_OUTPUT, 16) ^ PLAINTEXT\n",
    "AES_INPUT = format(input_var, 'x')\n",
    "print(AES_INPUT)\n",
    "\n",
    "input_byte = input_var.to_bytes(16, byteorder='big')\n",
    "\n",
    "cipher = AES.new(key_byte, AES.MODE_ECB)\n",
    "cipher_byte = cipher.encrypt(input_byte)\n",
    "\n",
    "AES_OUTPUT = cipher_byte.hex()\n",
    "print(AES_OUTPUT)"
   ]
  },
  {
   "cell_type": "markdown",
   "metadata": {},
   "source": [
    "* **Encrypt Block #1~#4 One-time**"
   ]
  },
  {
   "cell_type": "code",
   "execution_count": 6,
   "metadata": {},
   "outputs": [
    {
     "name": "stdout",
     "output_type": "stream",
     "text": [
      "7649abac8119b246cee98e9b12e9197d\n",
      "5086cb9b507219ee95db113a917678b2\n",
      "73bed6b8e3c1743b7116e69e22229516\n",
      "3ff1caa1681fac09120eca307586e1a7\n"
     ]
    }
   ],
   "source": [
    "from Crypto.Cipher import AES\n",
    "from textwrap import wrap\n",
    "\n",
    "KEY = 0x2b7e151628aed2a6abf7158809cf4f3c\n",
    "IV = 0x000102030405060708090a0b0c0d0e0f\n",
    "\n",
    "key_byte = KEY.to_bytes(16, byteorder='big')\n",
    "iv_byte = IV.to_bytes(16, byteorder='big')\n",
    "\n",
    "PLAINTEXT = [0x6bc1bee22e409f96e93d7e117393172a, \\\n",
    "             0xae2d8a571e03ac9c9eb76fac45af8e51, \\\n",
    "             0x30c81c46a35ce411e5fbc1191a0a52ef, \\\n",
    "             0xf69f2445df4f9b17ad2b417be66c3710]\n",
    "\n",
    "text_byte = b''\n",
    "for t in PLAINTEXT:\n",
    "    text_byte += t.to_bytes(16, byteorder='big')\n",
    "\n",
    "cipher = AES.new(key_byte, AES.MODE_CBC, iv_byte)\n",
    "cipher_byte = cipher.encrypt(text_byte)\n",
    "\n",
    "CIPHERTEXT = cipher_byte.hex()\n",
    "CIPHERTEXT = wrap(CIPHERTEXT, 32)\n",
    "\n",
    "for cipher in CIPHERTEXT:\n",
    "    print(cipher)"
   ]
  },
  {
   "cell_type": "markdown",
   "metadata": {},
   "source": [
    "* **Decrypt Block #1**"
   ]
  },
  {
   "cell_type": "code",
   "execution_count": 7,
   "metadata": {},
   "outputs": [
    {
     "name": "stdout",
     "output_type": "stream",
     "text": [
      "6bc0bce12a459991e134741a7f9e1925\n",
      "6bc1bee22e409f96e93d7e117393172a\n"
     ]
    }
   ],
   "source": [
    "from Crypto.Cipher import AES\n",
    "\n",
    "KEY = 0x2b7e151628aed2a6abf7158809cf4f3c\n",
    "IV = 0x000102030405060708090a0b0c0d0e0f\n",
    "CIPHERTEXT1 = 0x7649abac8119b246cee98e9b12e9197d\n",
    "\n",
    "key_byte = KEY.to_bytes(16, byteorder='big')\n",
    "cipher_byte = CIPHERTEXT1.to_bytes(16, byteorder='big')\n",
    "\n",
    "text = AES.new(key_byte, AES.MODE_ECB)\n",
    "output_byte = text.decrypt(cipher_byte)\n",
    "\n",
    "AES_OUTPUT = output_byte.hex()\n",
    "print(AES_OUTPUT)\n",
    "\n",
    "output_var = int(AES_OUTPUT, 16) ^ IV\n",
    "PLAINTEXT = format(output_var, 'x')\n",
    "print(PLAINTEXT)"
   ]
  },
  {
   "cell_type": "markdown",
   "metadata": {},
   "source": [
    "* **Decrypt Block #2**"
   ]
  },
  {
   "cell_type": "code",
   "execution_count": 8,
   "metadata": {},
   "outputs": [
    {
     "name": "stdout",
     "output_type": "stream",
     "text": [
      "d86421fb9f1a1eda505ee1375746972c\n",
      "ae2d8a571e03ac9c9eb76fac45af8e51\n"
     ]
    }
   ],
   "source": [
    "CIPHERTEXT2 = 0x5086cb9b507219ee95db113a917678b2\n",
    "cipher_byte = CIPHERTEXT2.to_bytes(16, byteorder='big')\n",
    "\n",
    "text = AES.new(key_byte, AES.MODE_ECB)\n",
    "output_byte = text.decrypt(cipher_byte)\n",
    "\n",
    "AES_OUTPUT = output_byte.hex()\n",
    "print(AES_OUTPUT)\n",
    "\n",
    "output_var = int(AES_OUTPUT, 16) ^ CIPHERTEXT1\n",
    "PLAINTEXT = format(output_var, 'x')\n",
    "print(PLAINTEXT)"
   ]
  },
  {
   "cell_type": "markdown",
   "metadata": {},
   "source": [
    "* **Decrypt Block #3**"
   ]
  },
  {
   "cell_type": "code",
   "execution_count": 9,
   "metadata": {},
   "outputs": [
    {
     "name": "stdout",
     "output_type": "stream",
     "text": [
      "604ed7ddf32efdff7020d0238b7c2a5d\n",
      "30c81c46a35ce411e5fbc1191a0a52ef\n"
     ]
    }
   ],
   "source": [
    "CIPHERTEXT3 = 0x73bed6b8e3c1743b7116e69e22229516\n",
    "cipher_byte = CIPHERTEXT3.to_bytes(16, byteorder='big')\n",
    "\n",
    "text = AES.new(key_byte, AES.MODE_ECB)\n",
    "output_byte = text.decrypt(cipher_byte)\n",
    "\n",
    "AES_OUTPUT = output_byte.hex()\n",
    "print(AES_OUTPUT)\n",
    "\n",
    "output_var = int(AES_OUTPUT, 16) ^ CIPHERTEXT2\n",
    "PLAINTEXT = format(output_var, 'x')\n",
    "print(PLAINTEXT)"
   ]
  },
  {
   "cell_type": "markdown",
   "metadata": {},
   "source": [
    "* **Decrypt Block #4**"
   ]
  },
  {
   "cell_type": "code",
   "execution_count": 10,
   "metadata": {},
   "outputs": [
    {
     "name": "stdout",
     "output_type": "stream",
     "text": [
      "8521f2fd3c8eef2cdc3da7e5c44ea206\n",
      "f69f2445df4f9b17ad2b417be66c3710\n"
     ]
    }
   ],
   "source": [
    "CIPHERTEXT4 = 0x3ff1caa1681fac09120eca307586e1a7\n",
    "cipher_byte = CIPHERTEXT4.to_bytes(16, byteorder='big')\n",
    "\n",
    "text = AES.new(key_byte, AES.MODE_ECB)\n",
    "output_byte = text.decrypt(cipher_byte)\n",
    "\n",
    "AES_OUTPUT = output_byte.hex()\n",
    "print(AES_OUTPUT)\n",
    "\n",
    "output_var = int(AES_OUTPUT, 16) ^ CIPHERTEXT3\n",
    "PLAINTEXT = format(output_var, 'x')\n",
    "print(PLAINTEXT)"
   ]
  },
  {
   "cell_type": "markdown",
   "metadata": {},
   "source": [
    "* **Decrypt Block #1~#4 One-time**"
   ]
  },
  {
   "cell_type": "code",
   "execution_count": 11,
   "metadata": {},
   "outputs": [
    {
     "name": "stdout",
     "output_type": "stream",
     "text": [
      "6bc1bee22e409f96e93d7e117393172a\n",
      "ae2d8a571e03ac9c9eb76fac45af8e51\n",
      "30c81c46a35ce411e5fbc1191a0a52ef\n",
      "f69f2445df4f9b17ad2b417be66c3710\n"
     ]
    }
   ],
   "source": [
    "from Crypto.Cipher import AES\n",
    "from textwrap import wrap\n",
    "\n",
    "KEY = 0x2b7e151628aed2a6abf7158809cf4f3c\n",
    "IV = 0x000102030405060708090a0b0c0d0e0f\n",
    "\n",
    "key_byte = KEY.to_bytes(16, byteorder='big')\n",
    "iv_byte = IV.to_bytes(16, byteorder='big')\n",
    "\n",
    "CIPHERTEXT = [0x7649abac8119b246cee98e9b12e9197d, \\\n",
    "              0x5086cb9b507219ee95db113a917678b2, \\\n",
    "              0x73bed6b8e3c1743b7116e69e22229516, \\\n",
    "              0x3ff1caa1681fac09120eca307586e1a7]\n",
    "\n",
    "cipher_byte = b''\n",
    "for c in CIPHERTEXT:\n",
    "    cipher_byte += c.to_bytes(16, byteorder='big')\n",
    "\n",
    "text = AES.new(key_byte, AES.MODE_CBC, iv_byte)\n",
    "text_byte = text.decrypt(cipher_byte)\n",
    "\n",
    "PLAINTEXT = text_byte.hex()\n",
    "PLAINTEXT = wrap(PLAINTEXT, 32)\n",
    "\n",
    "for text in PLAINTEXT:\n",
    "    print(text)"
   ]
  },
  {
   "cell_type": "markdown",
   "metadata": {},
   "source": [
    "# AES-CMAC"
   ]
  },
  {
   "cell_type": "markdown",
   "metadata": {},
   "source": [
    "* **Subkey Generation**"
   ]
  },
  {
   "cell_type": "code",
   "execution_count": 12,
   "metadata": {},
   "outputs": [
    {
     "name": "stdout",
     "output_type": "stream",
     "text": [
      "7df76b0c1ab899b33e42f047b91b546f\n",
      "fbeed618357133667c85e08f7236a8de\n",
      "f7ddac306ae266ccf90bc11ee46d513b\n"
     ]
    }
   ],
   "source": [
    "from Crypto.Cipher import AES\n",
    "\n",
    "KEY = 0x2b7e151628aed2a6abf7158809cf4f3c\n",
    "key_byte = KEY.to_bytes(16, byteorder='big')\n",
    "\n",
    "CONST_R128 = 0x87\n",
    "CONST_ZERO = 0x00\n",
    "const_zero_byte = CONST_ZERO.to_bytes(16, byteorder='big')\n",
    "\n",
    "cipher = AES.new(key_byte, AES.MODE_ECB)\n",
    "cipher_byte = cipher.encrypt(const_zero_byte)\n",
    "\n",
    "CIPHERTEXT = cipher_byte.hex()\n",
    "print(CIPHERTEXT)\n",
    "\n",
    "MASK_1bit_ONE = 0x01\n",
    "MASK_128bit_ONE = int('f'*32, 16)\n",
    "\n",
    "CIPHER_L = int(CIPHERTEXT, 16)\n",
    "CIPHER_L_MSB = (CIPHER_L >> 127) & MASK_1bit_ONE\n",
    "\n",
    "if CIPHER_L_MSB == 0:\n",
    "    K1_MAC = CIPHER_L << 1\n",
    "else:\n",
    "    K1_MAC = (CIPHER_L << 1) ^ CONST_R128\n",
    "\n",
    "K1_MSB = (K1_MAC >> 127) & MASK_1bit_ONE\n",
    "\n",
    "if K1_MSB == 0:\n",
    "    K2_MAC = K1_MAC << 1\n",
    "else:\n",
    "    K2_MAC = (K1_MAC << 1) ^ CONST_R128\n",
    "\n",
    "K1_OUT = (K1_MAC & MASK_128bit_ONE).to_bytes(16, byteorder='big').hex()\n",
    "K2_OUT = (K2_MAC & MASK_128bit_ONE).to_bytes(16, byteorder='big').hex()\n",
    "print(K1_OUT)\n",
    "print(K2_OUT)"
   ]
  },
  {
   "cell_type": "markdown",
   "metadata": {},
   "source": [
    "* **CMAC Example 1 -  Message Length 128 bit**"
   ]
  },
  {
   "cell_type": "code",
   "execution_count": 13,
   "metadata": {},
   "outputs": [
    {
     "name": "stdout",
     "output_type": "stream",
     "text": [
      "070a16b46b4d4144f79bdd9dd04a287c\n"
     ]
    }
   ],
   "source": [
    "msg_empty = False\n",
    "\n",
    "if not msg_empty:\n",
    "    MESSAGE = 0x6bc1bee22e409f96e93d7e117393172a\n",
    "    input_var = MESSAGE ^ int(K1_OUT, 16)\n",
    "else:\n",
    "    MESSAGE = int('1' + 127 * '0', 2)\n",
    "    input_var = MESSAGE ^ int(K2_OUT, 16)\n",
    "\n",
    "mac_byte = input_var.to_bytes(16, byteorder='big')\n",
    "\n",
    "cipher = AES.new(key_byte, AES.MODE_ECB)\n",
    "mac_output = cipher.encrypt(mac_byte)\n",
    "\n",
    "CMAC_OUT = mac_output.hex()\n",
    "print(CMAC_OUT)"
   ]
  },
  {
   "cell_type": "markdown",
   "metadata": {},
   "source": [
    "* **CMAC Example 2 -  Message Length 320 bit**"
   ]
  },
  {
   "cell_type": "code",
   "execution_count": 14,
   "metadata": {},
   "outputs": [
    {
     "name": "stdout",
     "output_type": "stream",
     "text": [
      "dfa66747de9ae63030ca32611497c827\n"
     ]
    }
   ],
   "source": [
    "need_padding = True\n",
    "\n",
    "if need_padding:\n",
    "    MESSAGES = [0x6bc1bee22e409f96e93d7e117393172a, \\\n",
    "                0xae2d8a571e03ac9c9eb76fac45af8e51, \\\n",
    "                0x30c81c46a35ce411]\n",
    "else:\n",
    "    MESSAGES = [0x6bc1bee22e409f96e93d7e117393172a, \\\n",
    "                0xae2d8a571e03ac9c9eb76fac45af8e51, \\\n",
    "                0x30c81c46a35ce411e5fbc1191a0a52ef, \\\n",
    "                0xf69f2445df4f9b17ad2b417be66c3710]\n",
    "\n",
    "cipher = AES.new(key_byte, AES.MODE_ECB)\n",
    "mac_output = b'\\x00'\n",
    "\n",
    "for idx in range(len(MESSAGES)-1):\n",
    "    if idx == 0:    \n",
    "        mac_output = cipher.encrypt(MESSAGES[idx].to_bytes(16, byteorder='big'))\n",
    "    else:\n",
    "        mac_input = int(mac_output.hex(), 16) ^ MESSAGES[idx]\n",
    "        mac_output = cipher.encrypt(mac_input.to_bytes(16, byteorder='big'))\n",
    "\n",
    "msg_bit_len = len(hex(MESSAGES[-1])[2:]) * 4\n",
    "\n",
    "if msg_bit_len < 128:\n",
    "    padding_num = 128 - msg_bit_len - 1\n",
    "    LAST_MSG_BIN = bin(MESSAGES[-1])[2:] + '1' + '0' * padding_num\n",
    "    LAST_MSG = int(LAST_MSG_BIN, 2)\n",
    "    mac_input = int(mac_output.hex(), 16) ^ LAST_MSG ^ int(K2_OUT, 16)\n",
    "else:\n",
    "    mac_input = int(mac_output.hex(), 16) ^ MESSAGES[-1] ^ int(K1_OUT, 16)\n",
    "\n",
    "mac_output = cipher.encrypt(mac_input.to_bytes(16, byteorder='big'))\n",
    "CMAC_OUT = mac_output.hex()\n",
    "print(CMAC_OUT)"
   ]
  },
  {
   "cell_type": "markdown",
   "metadata": {},
   "source": [
    "# Miyaguchi-Preneel Compression Function"
   ]
  },
  {
   "cell_type": "code",
   "execution_count": 15,
   "metadata": {},
   "outputs": [
    {
     "name": "stdout",
     "output_type": "stream",
     "text": [
      "c7277a0dc1fb853b5f4d9cbd26be40c6\n"
     ]
    }
   ],
   "source": [
    "from Crypto.Cipher import AES\n",
    "\n",
    "def AES_MP_Compression(padded_msgs):\n",
    "    use_key_value = 0x00\n",
    "    use_key_byte = use_key_value.to_bytes(16, byteorder='big')\n",
    "    \n",
    "    for m in padded_msgs:\n",
    "        cipher = AES.new(use_key_byte, AES.MODE_ECB)\n",
    "        \n",
    "        msg_byte = m.to_bytes(16, byteorder='big')\n",
    "        cipher_byte = cipher.encrypt(msg_byte)\n",
    "        \n",
    "        use_key_value = int(cipher_byte.hex(), 16) ^ use_key_value ^ m\n",
    "        use_key_byte = use_key_value.to_bytes(16, byteorder='big')\n",
    "    \n",
    "    return use_key_byte.hex()\n",
    "\n",
    "PADDING_STR = 0x80000000000000000000000000000100\n",
    "\n",
    "MESSAGES = [0x6bc1bee22e409f96e93d7e117393172a, \\\n",
    "            0xae2d8a571e03ac9c9eb76fac45af8e51, \\\n",
    "            PADDING_STR]\n",
    "\n",
    "res = AES_MP_Compression(MESSAGES)\n",
    "print(res)"
   ]
  },
  {
   "cell_type": "markdown",
   "metadata": {},
   "source": [
    "# Key Derivation"
   ]
  },
  {
   "cell_type": "code",
   "execution_count": 16,
   "metadata": {},
   "outputs": [
    {
     "name": "stdout",
     "output_type": "stream",
     "text": [
      "118a46447a770d87828a69c222e2d17e\n"
     ]
    }
   ],
   "source": [
    "K = 0x000102030405060708090a0b0c0d0e0f\n",
    "C = 0x010153484500800000000000000000b0\n",
    "\n",
    "MESSAGES = [K, C]\n",
    "\n",
    "res = AES_MP_Compression(MESSAGES)\n",
    "print(res)"
   ]
  },
  {
   "cell_type": "markdown",
   "metadata": {},
   "source": [
    "# Pseudo Random Number Generation"
   ]
  },
  {
   "cell_type": "markdown",
   "metadata": {},
   "source": [
    "* **PRNG Keys Derivation**"
   ]
  },
  {
   "cell_type": "code",
   "execution_count": 17,
   "metadata": {},
   "outputs": [
    {
     "name": "stdout",
     "output_type": "stream",
     "text": [
      "8abc8f6e2a8264fd38088be622ca0416\n",
      "a1be019264992b2b725a4dd4c7767002\n"
     ]
    }
   ],
   "source": [
    "SECRET_KEY = 0x2b7e151628aed2a6abf7158809cf4f3c\n",
    "\n",
    "# Constant Values\n",
    "PRNG_SEED_KEY_C = 0x010553484500800000000000000000B0\n",
    "PRNG_KEY_C = 0x010453484500800000000000000000B0\n",
    "\n",
    "PRNG_SEED_KEY = AES_MP_Compression([SECRET_KEY, PRNG_SEED_KEY_C])\n",
    "print(PRNG_SEED_KEY)\n",
    "\n",
    "PRNG_KEY = AES_MP_Compression([SECRET_KEY, PRNG_KEY_C])\n",
    "print(PRNG_KEY)"
   ]
  },
  {
   "cell_type": "markdown",
   "metadata": {},
   "source": [
    "* **Calculate Updated PRNG_SEED**"
   ]
  },
  {
   "cell_type": "code",
   "execution_count": 18,
   "metadata": {},
   "outputs": [
    {
     "name": "stdout",
     "output_type": "stream",
     "text": [
      "41f21213bca0434b3eb3bafcb0a19d74\n"
     ]
    }
   ],
   "source": [
    "PRNG_SEED = 0x6bc1bee22e409f96e93d7e117393172a\n",
    "\n",
    "prng_seed_key_byte = bytes.fromhex(PRNG_SEED_KEY)\n",
    "prng_seed_byte = PRNG_SEED.to_bytes(16, byteorder='big')\n",
    "\n",
    "cipher = AES.new(prng_seed_key_byte, AES.MODE_ECB)\n",
    "cipher_byte = cipher.encrypt(prng_seed_byte)\n",
    "\n",
    "# Updated PRNG_SEED\n",
    "PRNG_SEED_UPDATE = cipher_byte.hex()\n",
    "print(PRNG_SEED_UPDATE)"
   ]
  },
  {
   "cell_type": "markdown",
   "metadata": {},
   "source": [
    "* **Calculate New Random Value**"
   ]
  },
  {
   "cell_type": "code",
   "execution_count": 19,
   "metadata": {},
   "outputs": [
    {
     "name": "stdout",
     "output_type": "stream",
     "text": [
      "41f21213bca0434b3eb3bafcb0a19d74\n",
      "614aae8a7bb8fff31ac3230e6240506b\n"
     ]
    }
   ],
   "source": [
    "# PRNG_STATE will be copy from the updated PRNG_SEED\n",
    "PRNG_STATE = PRNG_SEED_UPDATE\n",
    "print(PRNG_STATE)\n",
    "\n",
    "prng_key_byte = bytes.fromhex(PRNG_KEY)\n",
    "prng_state_byte = bytes.fromhex(PRNG_STATE)\n",
    "\n",
    "cipher = AES.new(prng_key_byte, AES.MODE_ECB)\n",
    "prng_byte = cipher.encrypt(prng_state_byte)\n",
    "\n",
    "PRNG_STATE_UPDATE = prng_byte.hex()\n",
    "print(PRNG_STATE_UPDATE)"
   ]
  },
  {
   "cell_type": "markdown",
   "metadata": {},
   "source": [
    "* **Extending the Seed**"
   ]
  },
  {
   "cell_type": "code",
   "execution_count": 20,
   "metadata": {},
   "outputs": [
    {
     "name": "stdout",
     "output_type": "stream",
     "text": [
      "7c92bea252d03015e4f5c2bca69a6f8a\n",
      "cf475ceb98f8ba6be1f55f97fdda9634\n"
     ]
    }
   ],
   "source": [
    "ENTROPY = 0xae2d8a571e03ac9c9eb76fac45af8e51\n",
    "PRNG_EXTENSION_C = 0x80000000000000000000000000000100\n",
    "\n",
    "PRNG_SEED_EXT = AES_MP_Compression([int(PRNG_SEED_UPDATE, 16), ENTROPY, PRNG_EXTENSION_C])\n",
    "print(PRNG_SEED_EXT)\n",
    "\n",
    "PRNG_STATE_EXT = AES_MP_Compression([int(PRNG_STATE_UPDATE, 16), ENTROPY, PRNG_EXTENSION_C])\n",
    "print(PRNG_STATE_EXT)"
   ]
  },
  {
   "cell_type": "markdown",
   "metadata": {},
   "source": [
    "# Memory Update Protocol"
   ]
  },
  {
   "cell_type": "markdown",
   "metadata": {},
   "source": [
    "* **Derive K1 and K2 from KEY_AuthID**"
   ]
  },
  {
   "cell_type": "code",
   "execution_count": 21,
   "metadata": {},
   "outputs": [
    {
     "name": "stdout",
     "output_type": "stream",
     "text": [
      "f40080c903c8f1cec8dc721390d27878\n",
      "a20c49ce7f14af80ab48c2a1043a118f\n"
     ]
    }
   ],
   "source": [
    "# Default Value\n",
    "# KEY_AUTH_ID = 0x000102030405060708090a0b0c0d0e0f\n",
    "\n",
    "# Value Pending Change\n",
    "KEY_AUTH_ID = 0x11111111111111111111111111111111\n",
    "# KEY_AUTH_ID = 0x0f0e0d0c0b0a090807060504030201bb\n",
    "\n",
    "KEY_UPDATE_ENC_C = 0x010153484500800000000000000000b0\n",
    "KEY_UPDATE_MAC_C = 0x010253484500800000000000000000b0\n",
    "\n",
    "K1 = AES_MP_Compression([KEY_AUTH_ID, KEY_UPDATE_ENC_C])\n",
    "print(K1)\n",
    "\n",
    "K2 = AES_MP_Compression([KEY_AUTH_ID, KEY_UPDATE_MAC_C])\n",
    "print(K2)"
   ]
  },
  {
   "cell_type": "markdown",
   "metadata": {},
   "source": [
    "* **Generate M1**"
   ]
  },
  {
   "cell_type": "code",
   "execution_count": 22,
   "metadata": {},
   "outputs": [
    {
     "name": "stdout",
     "output_type": "stream",
     "text": [
      "00 00 00 00 00 00 00 00 00 00 00 00 00 00 01 21 \n"
     ]
    }
   ],
   "source": [
    "# Default Value\n",
    "UID_SHE_MODULE = 0x000000000000000000000000000001\n",
    "\n",
    "# Value Pending Change\n",
    "# UID_SHE_MODULE = 0x000000000000000000000000000000\n",
    "\n",
    "# The UID is specified to 120 bits\n",
    "UID_BIT_LEN = 120\n",
    "uid_bytes = UID_SHE_MODULE.to_bytes(UID_BIT_LEN//8, byteorder='big')\n",
    "\n",
    "# Key slot ID is a 4 bits value\n",
    "# 0x04 is the ID of KEY_1\n",
    "ID_KEY_SLOT = 0x2\n",
    "\n",
    "# AuthID is a 4 bits value\n",
    "# 0x01 is the ID of MASTER_ECU_KEY\n",
    "AuthID = 0x1\n",
    "\n",
    "def M_Value_Print(m_value_str):\n",
    "    counter = 0\n",
    "    for m_hex in m_value_str:\n",
    "        counter += 1\n",
    "        print(m_hex.upper(), end='')\n",
    "        if counter == 2:\n",
    "            counter = 0\n",
    "            print(' ', end='')\n",
    "    print()\n",
    "\n",
    "# M1 is the concatenation of the UID, the ID of Key to be updated, and the AuthID\n",
    "M1 = uid_bytes.hex() + str(ID_KEY_SLOT) + str(AuthID)\n",
    "M_Value_Print(M1)"
   ]
  },
  {
   "cell_type": "markdown",
   "metadata": {},
   "source": [
    "* **Generate M2**"
   ]
  },
  {
   "cell_type": "code",
   "execution_count": 23,
   "metadata": {},
   "outputs": [
    {
     "name": "stdout",
     "output_type": "stream",
     "text": [
      "C7 62 2D 59 7A 17 2B C3 49 B0 9C 2B 85 91 C1 D8 \n",
      "B8 BF 14 E4 63 23 E8 BD AB 13 BD 3D 69 DA 77 48 \n",
      "C7 62 2D 59 7A 17 2B C3 49 B0 9C 2B 85 91 C1 D8 B8 BF 14 E4 63 23 E8 BD AB 13 BD 3D 69 DA 77 48 \n"
     ]
    }
   ],
   "source": [
    "# The new key value\n",
    "KEY_ID_NEW = 0x0f0e0d0c0b0a09080706050403020100\n",
    "# KEY_ID_NEW = 0x11111111111111111111111111111111\n",
    "\n",
    "# New Counter Value\n",
    "# CID = 0x0000001\n",
    "CID = 0x00003ff\n",
    "CID_BIT_LEN = 28\n",
    "CID_BIN_STR = bin(CID)[2:].zfill(CID_BIT_LEN)\n",
    "\n",
    "WRITE_PROTECTION = '0'\n",
    "BOOT_PROTECTION = '0'\n",
    "DEBUGGER_PROTECTION = '0'\n",
    "KEY_USAGE = '0'\n",
    "WILDCARD = '0'\n",
    "FID_BIT_LEN = 5\n",
    "FID = WRITE_PROTECTION + BOOT_PROTECTION + DEBUGGER_PROTECTION + KEY_USAGE + WILDCARD\n",
    "\n",
    "FILL_GAP_ZEROS = '0' * (128 - CID_BIT_LEN - FID_BIT_LEN)\n",
    "\n",
    "from Crypto.Cipher import AES\n",
    "from textwrap import wrap\n",
    "\n",
    "KEY = K1\n",
    "IV = 0x0\n",
    "\n",
    "key_byte = bytes.fromhex(KEY)\n",
    "iv_byte = IV.to_bytes(16, byteorder='big')\n",
    "INPUT_INFO = [int(CID_BIN_STR + FID + FILL_GAP_ZEROS, 2), KEY_ID_NEW]\n",
    "\n",
    "cipher_byte = b''\n",
    "for c in INPUT_INFO:\n",
    "    cipher_byte += c.to_bytes(16, byteorder='big')\n",
    "\n",
    "cipher = AES.new(key_byte, AES.MODE_CBC, iv_byte)\n",
    "M2_byte = cipher.encrypt(cipher_byte)\n",
    "\n",
    "M2_Hex = M2_byte.hex()\n",
    "M2 = wrap(M2_Hex, 32)\n",
    "\n",
    "for msg in M2:\n",
    "    M_Value_Print(msg)\n",
    "    \n",
    "M_Value_Print(M2_Hex)"
   ]
  },
  {
   "cell_type": "markdown",
   "metadata": {},
   "source": [
    "* **Generate M3**"
   ]
  },
  {
   "cell_type": "code",
   "execution_count": 24,
   "metadata": {},
   "outputs": [
    {
     "name": "stdout",
     "output_type": "stream",
     "text": [
      "A3 3E 9A CC C5 54 9A C6 81 47 D3 B3 63 F4 32 2D \n"
     ]
    }
   ],
   "source": [
    "from Crypto.Cipher import AES\n",
    "\n",
    "# KEY is a key string\n",
    "# MESSAGES is a list contains message strings\n",
    "def AES_CMAC(KEY, MESSAGE):\n",
    "    MASK_1bit_ONE = 0x01\n",
    "    MASK_128bit_ONE = int('f'*32, 16)\n",
    "    CONST_R128 = 0x87\n",
    "    CONST_ZERO = 0x00\n",
    "    \n",
    "    # Step1: Generate sub-keys\n",
    "    key_byte = bytes.fromhex(KEY)\n",
    "    cipher = AES.new(key_byte, AES.MODE_ECB)\n",
    "\n",
    "    cipher_byte = cipher.encrypt(CONST_ZERO.to_bytes(16, byteorder='big'))\n",
    "    CIPHERTEXT = cipher_byte.hex()\n",
    "    CIPHER_L = int(CIPHERTEXT, 16)\n",
    "    CIPHER_L_MSB = (CIPHER_L >> 127) & MASK_1bit_ONE\n",
    "\n",
    "    if CIPHER_L_MSB == 0:\n",
    "        K1_MAC = CIPHER_L << 1\n",
    "    else:\n",
    "        K1_MAC = (CIPHER_L << 1) ^ CONST_R128\n",
    "\n",
    "    K1_MSB = (K1_MAC >> 127) & MASK_1bit_ONE\n",
    "\n",
    "    if K1_MSB == 0:\n",
    "        K2_MAC = K1_MAC << 1\n",
    "    else:\n",
    "        K2_MAC = (K1_MAC << 1) ^ CONST_R128\n",
    "\n",
    "    K1_OUT = (K1_MAC & MASK_128bit_ONE).to_bytes(16, byteorder='big').hex()\n",
    "    K2_OUT = (K2_MAC & MASK_128bit_ONE).to_bytes(16, byteorder='big').hex()\n",
    "\n",
    "    # Step2: Start computing MAC using the sub-keys\n",
    "    MESSAGES = []\n",
    "    for idx, msg in enumerate(MESSAGE):\n",
    "        if len(msg) != 0:\n",
    "            MESSAGES.append(int(msg, 16))\n",
    "        else:\n",
    "            MESSAGES.append(0)\n",
    "\n",
    "    mac_output = b'\\x00'\n",
    "    for idx in range(len(MESSAGES)-1):\n",
    "        if idx == 0:    \n",
    "            mac_output = cipher.encrypt(MESSAGES[idx].to_bytes(16, byteorder='big'))\n",
    "        else:\n",
    "            mac_input = int(mac_output.hex(), 16) ^ MESSAGES[idx]\n",
    "            mac_output = cipher.encrypt(mac_input.to_bytes(16, byteorder='big'))\n",
    "\n",
    "    msg_bit_len = len(MESSAGE[-1]) * 4\n",
    "\n",
    "    if msg_bit_len < 128:\n",
    "        padding_num = 128 - msg_bit_len - 1\n",
    "        LAST_MSG_BIN = bin(MESSAGES[-1])[2:] + '1' + '0' * padding_num\n",
    "        LAST_MSG = int(LAST_MSG_BIN, 2)\n",
    "        mac_input = int(mac_output.hex(), 16) ^ LAST_MSG ^ int(K2_OUT, 16)\n",
    "    else:\n",
    "        mac_input = int(mac_output.hex(), 16) ^ MESSAGES[-1] ^ int(K1_OUT, 16)\n",
    "\n",
    "    mac_output = cipher.encrypt(mac_input.to_bytes(16, byteorder='big'))\n",
    "\n",
    "    return mac_output.hex()\n",
    "\n",
    "KEY_IN = K2\n",
    "MESSAGE_IN = [M1] + M2\n",
    "\n",
    "M3 = AES_CMAC(KEY_IN, MESSAGE_IN)\n",
    "M_Value_Print(M3)"
   ]
  },
  {
   "cell_type": "markdown",
   "metadata": {},
   "source": [
    "* **Derive K3 and K4 from KEY_ID_NEW**"
   ]
  },
  {
   "cell_type": "code",
   "execution_count": 25,
   "metadata": {},
   "outputs": [
    {
     "name": "stdout",
     "output_type": "stream",
     "text": [
      "ed2de7864a47f6bac319a9dc496a788f\n",
      "ec9386fefaa1c598246144343de5f26a\n"
     ]
    }
   ],
   "source": [
    "# The new key value\n",
    "# KEY_ID_NEW = 0x0f0e0d0c0b0a09080706050403020100\n",
    "\n",
    "# Constant value from SHE Constants\n",
    "KEY_UPDATE_ENC_C = 0x010153484500800000000000000000b0\n",
    "KEY_UPDATE_MAC_C = 0x010253484500800000000000000000b0\n",
    "\n",
    "K3 = AES_MP_Compression([KEY_ID_NEW, KEY_UPDATE_ENC_C])\n",
    "print(K3)\n",
    "\n",
    "K4 = AES_MP_Compression([KEY_ID_NEW, KEY_UPDATE_MAC_C])\n",
    "print(K4)"
   ]
  },
  {
   "cell_type": "markdown",
   "metadata": {},
   "source": [
    "* **Generate M4**"
   ]
  },
  {
   "cell_type": "code",
   "execution_count": 26,
   "metadata": {},
   "outputs": [
    {
     "name": "stdout",
     "output_type": "stream",
     "text": [
      "00 00 00 00 00 00 00 00 00 00 00 00 00 00 01 21 \n",
      "84 17 B9 3A 2B 07 35 48 71 6B 9F 5A FD 2D DF 99 \n"
     ]
    }
   ],
   "source": [
    "# UID is specified to 120 bits\n",
    "# UID_SHE_MODULE = 0x000000000000000000000000000001\n",
    "# UID_BIT_LEN = 120\n",
    "\n",
    "uid_bytes = UID_SHE_MODULE.to_bytes(UID_BIT_LEN//8, byteorder='big')\n",
    "\n",
    "# Key slot ID is a 4 bits value\n",
    "# 0x04 is the ID of KEY_1\n",
    "# ID_KEY_SLOT = 0x4\n",
    "\n",
    "# AuthID is a 4 bits value\n",
    "# 0x01 is the ID of MASTER_ECU_KEY\n",
    "# AuthID = 0x1\n",
    "\n",
    "# The first 128 bits is the concatenation of the UID, the ID of Key to be updated, and the AuthID\n",
    "M4_BLOCK1 = uid_bytes.hex() + str(ID_KEY_SLOT) + str(AuthID)\n",
    "\n",
    "# New Counter Value\n",
    "# CID = 0x0000001\n",
    "CID_BIT_LEN = 28\n",
    "CID_BIN_STR = bin(CID)[2:].zfill(CID_BIT_LEN)\n",
    "CID_PAD = '1' + (128 - 1- CID_BIT_LEN) * '0'\n",
    "\n",
    "m4_star_info = int(CID_BIN_STR + CID_PAD, 2)\n",
    "m4_star_byte = m4_star_info.to_bytes(16, byteorder='big')\n",
    "\n",
    "from Crypto.Cipher import AES\n",
    "\n",
    "KEY = K3\n",
    "key_byte = bytes.fromhex(KEY)\n",
    "\n",
    "cipher = AES.new(key_byte, AES.MODE_ECB)\n",
    "m4_cipher_byte = cipher.encrypt(m4_star_byte)\n",
    "M4_STAR = m4_cipher_byte.hex()\n",
    "\n",
    "M4 = [M4_BLOCK1, M4_STAR]\n",
    "\n",
    "for msg in M4:\n",
    "    M_Value_Print(msg)"
   ]
  },
  {
   "cell_type": "markdown",
   "metadata": {},
   "source": [
    "* **Generate M5**"
   ]
  },
  {
   "cell_type": "code",
   "execution_count": 27,
   "metadata": {},
   "outputs": [
    {
     "name": "stdout",
     "output_type": "stream",
     "text": [
      "4E 8F B5 9D 98 D5 A5 31 A1 70 DB 69 8F D7 90 DA \n"
     ]
    }
   ],
   "source": [
    "KEY_IN = K4\n",
    "MESSAGE_IN = M4\n",
    "\n",
    "M5 = AES_CMAC(KEY_IN, MESSAGE_IN)\n",
    "M_Value_Print(M5)"
   ]
  },
  {
   "cell_type": "markdown",
   "metadata": {},
   "source": [
    "# AES-CMAC Function Test"
   ]
  },
  {
   "cell_type": "code",
   "execution_count": 28,
   "metadata": {},
   "outputs": [
    {
     "name": "stdout",
     "output_type": "stream",
     "text": [
      "bb1d6929e95937287fa37d129b756746\n",
      "070a16b46b4d4144f79bdd9dd04a287c\n",
      "dfa66747de9ae63030ca32611497c827\n",
      "51f0bebf7e3b9d92fc49741779363cfe\n"
     ]
    }
   ],
   "source": [
    "KEY = 0x2b7e151628aed2a6abf7158809cf4f3c\n",
    "KEY_IN = KEY.to_bytes(16, byteorder='big').hex()\n",
    "\n",
    "MESSAGES0 = ['']\n",
    "res0 = AES_CMAC(KEY_IN, MESSAGES0)\n",
    "print(res0)\n",
    "\n",
    "MESSAGES1 = ['6bc1bee22e409f96e93d7e117393172a']\n",
    "res1 = AES_CMAC(KEY_IN, MESSAGES1)\n",
    "print(res1)\n",
    "\n",
    "MESSAGES2 = ['6bc1bee22e409f96e93d7e117393172a', \\\n",
    "             'ae2d8a571e03ac9c9eb76fac45af8e51', \\\n",
    "             '30c81c46a35ce411']\n",
    "res2 = AES_CMAC(KEY_IN, MESSAGES2)\n",
    "print(res2)\n",
    "\n",
    "MESSAGES3 = ['6bc1bee22e409f96e93d7e117393172a', \\\n",
    "             'ae2d8a571e03ac9c9eb76fac45af8e51', \\\n",
    "             '30c81c46a35ce411e5fbc1191a0a52ef', \\\n",
    "             'f69f2445df4f9b17ad2b417be66c3710']\n",
    "res3 = AES_CMAC(KEY_IN, MESSAGES3)\n",
    "print(res3)"
   ]
  },
  {
   "cell_type": "markdown",
   "metadata": {},
   "source": [
    "# Failure Analysis of SHE"
   ]
  },
  {
   "cell_type": "code",
   "execution_count": 29,
   "metadata": {},
   "outputs": [
    {
     "name": "stdout",
     "output_type": "stream",
     "text": [
      "1b5f959633c8c39ec42e965132bcec9b\n",
      "953cb601d8ffa1954795fab3cad72c53\n"
     ]
    }
   ],
   "source": [
    "MASTER_ECU_KEY = 0x000102030405060708090a0b0c0d0e0f\n",
    "DEBUG_KEY_C = 0x010353484500800000000000000000b0\n",
    "\n",
    "K_DEBUG = AES_MP_Compression([MASTER_ECU_KEY, DEBUG_KEY_C])\n",
    "print(K_DEBUG)\n",
    "\n",
    "CHALLENGE = '40abdeab16de77b9599964b3d2dd7261'\n",
    "UID = '000000000000000000000000000001'\n",
    "AUTHORIZATION = AES_CMAC(K_DEBUG, [CHALLENGE, UID])\n",
    "print(AUTHORIZATION)"
   ]
  },
  {
   "cell_type": "code",
   "execution_count": null,
   "metadata": {},
   "outputs": [],
   "source": []
  }
 ],
 "metadata": {
  "kernelspec": {
   "display_name": "Python 3",
   "language": "python",
   "name": "python3"
  },
  "language_info": {
   "codemirror_mode": {
    "name": "ipython",
    "version": 3
   },
   "file_extension": ".py",
   "mimetype": "text/x-python",
   "name": "python",
   "nbconvert_exporter": "python",
   "pygments_lexer": "ipython3",
   "version": "3.7.4"
  }
 },
 "nbformat": 4,
 "nbformat_minor": 2
}
